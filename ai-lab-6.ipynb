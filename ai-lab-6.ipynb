{
 "cells": [
  {
   "cell_type": "markdown",
   "metadata": {
    "papermill": {
     "duration": 0.007133,
     "end_time": "2020-11-22T21:51:15.444455",
     "exception": false,
     "start_time": "2020-11-22T21:51:15.437322",
     "status": "completed"
    },
    "tags": []
   },
   "source": [
    "# Create a knowledgebase using prepositional logic and show that\n",
    "# the given query entails the knowledge base or not .\n",
    "Adithya N, 1BM18CS128"
   ]
  },
  {
   "cell_type": "code",
   "execution_count": 1,
   "metadata": {
    "_cell_guid": "b1076dfc-b9ad-4769-8c92-a6c4dae69d19",
    "_uuid": "8f2839f25d086af736a60e9eeb907d3b93b6e0e5",
    "execution": {
     "iopub.execute_input": "2020-11-22T21:51:15.469283Z",
     "iopub.status.busy": "2020-11-22T21:51:15.468196Z",
     "iopub.status.idle": "2020-11-22T21:51:15.472263Z",
     "shell.execute_reply": "2020-11-22T21:51:15.471359Z"
    },
    "papermill": {
     "duration": 0.021704,
     "end_time": "2020-11-22T21:51:15.472409",
     "exception": false,
     "start_time": "2020-11-22T21:51:15.450705",
     "status": "completed"
    },
    "tags": []
   },
   "outputs": [],
   "source": [
    "def processRule(rule):\n",
    "    rule = rule.replace('~', 'not ')\n",
    "    rule = rule.replace('^', ' and ')\n",
    "    rule = rule.replace('v', ' or ')\n",
    "    return rule\n",
    "\n",
    "def formatRule(rule, P, Q, R):\n",
    "    P, Q, R = str(P), str(Q), str(R)\n",
    "    rule = rule.replace('P', P)\n",
    "    rule = rule.replace('Q', Q)\n",
    "    rule = rule.replace('R', R)\n",
    "    return rule"
   ]
  },
  {
   "cell_type": "code",
   "execution_count": 2,
   "metadata": {
    "_cell_guid": "79c7e3d0-c299-4dcb-8224-4455121ee9b0",
    "_uuid": "d629ff2d2480ee46fbb7e2d37f6b5fab8052498a",
    "execution": {
     "iopub.execute_input": "2020-11-22T21:51:15.497608Z",
     "iopub.status.busy": "2020-11-22T21:51:15.496401Z",
     "iopub.status.idle": "2020-11-22T21:51:15.499591Z",
     "shell.execute_reply": "2020-11-22T21:51:15.500208Z"
    },
    "papermill": {
     "duration": 0.022145,
     "end_time": "2020-11-22T21:51:15.500400",
     "exception": false,
     "start_time": "2020-11-22T21:51:15.478255",
     "status": "completed"
    },
    "tags": []
   },
   "outputs": [],
   "source": [
    "def checkEntailment(rule, query):\n",
    "    models = [\n",
    "        (False, False, False),\n",
    "        (False, False, True),\n",
    "        (False, True, False),\n",
    "        (False, True, True),\n",
    "        (True, False, False),\n",
    "        (True, False, True),\n",
    "        (True, True, False),\n",
    "        (True, True, True)\n",
    "    ]\n",
    "    rule = processRule(rule)\n",
    "    entails = True\n",
    "\n",
    "    for P, Q, R in models:\n",
    "        formattedRule = formatRule(rule, P, Q, R) \n",
    "        print(f'Evaluating: {formattedRule}')\n",
    "        KB = eval(formattedRule)\n",
    "        _query = R if query == 'R' else P if query == 'P' else Q\n",
    "        print(f'Knowledge Base: {KB}      Query: {_query}')\n",
    "        if KB:\n",
    "            entails &= KB and _query\n",
    "\n",
    "    if entails:\n",
    "        print('Knowledge Base entails the query')\n",
    "    else:\n",
    "        print(\"Knowledge Base doesn't entail the query\")"
   ]
  },
  {
   "cell_type": "code",
   "execution_count": 3,
   "metadata": {
    "execution": {
     "iopub.execute_input": "2020-11-22T21:51:15.518629Z",
     "iopub.status.busy": "2020-11-22T21:51:15.517847Z",
     "iopub.status.idle": "2020-11-22T21:51:15.522085Z",
     "shell.execute_reply": "2020-11-22T21:51:15.521348Z"
    },
    "papermill": {
     "duration": 0.01602,
     "end_time": "2020-11-22T21:51:15.522251",
     "exception": false,
     "start_time": "2020-11-22T21:51:15.506231",
     "status": "completed"
    },
    "tags": []
   },
   "outputs": [
    {
     "name": "stdout",
     "output_type": "stream",
     "text": [
      "Evaluating: (False or not False) or (False or not False) and (not False or False) and (not False or False)\n",
      "Knowledge Base: True      Query: False\n",
      "Evaluating: (True or not False) or (True or not False) and (not True or False) and (not True or False)\n",
      "Knowledge Base: True      Query: True\n",
      "Evaluating: (False or not False) or (False or not True) and (not False or False) and (not False or True)\n",
      "Knowledge Base: True      Query: False\n",
      "Evaluating: (True or not False) or (True or not True) and (not True or False) and (not True or True)\n",
      "Knowledge Base: True      Query: True\n",
      "Evaluating: (False or not True) or (False or not False) and (not False or True) and (not False or False)\n",
      "Knowledge Base: True      Query: False\n",
      "Evaluating: (True or not True) or (True or not False) and (not True or True) and (not True or False)\n",
      "Knowledge Base: True      Query: True\n",
      "Evaluating: (False or not True) or (False or not True) and (not False or True) and (not False or True)\n",
      "Knowledge Base: False      Query: False\n",
      "Evaluating: (True or not True) or (True or not True) and (not True or True) and (not True or True)\n",
      "Knowledge Base: True      Query: True\n",
      "Knowledge Base doesn't entail the query\n"
     ]
    }
   ],
   "source": [
    "rule, query = '(Rv~P)v(Rv~Q)^(~RvP)^(~RvQ)', 'R'\n",
    "checkEntailment(rule, query)"
   ]
  },
  {
   "cell_type": "code",
   "execution_count": 4,
   "metadata": {
    "execution": {
     "iopub.execute_input": "2020-11-22T21:51:15.542533Z",
     "iopub.status.busy": "2020-11-22T21:51:15.541664Z",
     "iopub.status.idle": "2020-11-22T21:51:15.550323Z",
     "shell.execute_reply": "2020-11-22T21:51:15.549128Z"
    },
    "papermill": {
     "duration": 0.021423,
     "end_time": "2020-11-22T21:51:15.550489",
     "exception": false,
     "start_time": "2020-11-22T21:51:15.529066",
     "status": "completed"
    },
    "tags": []
   },
   "outputs": [
    {
     "name": "stdout",
     "output_type": "stream",
     "text": [
      "Evaluating: (not False or not False or False) and (not False and False) and False\n",
      "Knowledge Base: False      Query: False\n",
      "Evaluating: (not False or not False or True) and (not False and False) and False\n",
      "Knowledge Base: False      Query: True\n",
      "Evaluating: (not True or not False or False) and (not True and False) and True\n",
      "Knowledge Base: False      Query: False\n",
      "Evaluating: (not True or not False or True) and (not True and False) and True\n",
      "Knowledge Base: False      Query: True\n",
      "Evaluating: (not False or not True or False) and (not False and True) and False\n",
      "Knowledge Base: False      Query: False\n",
      "Evaluating: (not False or not True or True) and (not False and True) and False\n",
      "Knowledge Base: False      Query: True\n",
      "Evaluating: (not True or not True or False) and (not True and True) and True\n",
      "Knowledge Base: False      Query: False\n",
      "Evaluating: (not True or not True or True) and (not True and True) and True\n",
      "Knowledge Base: False      Query: True\n",
      "Knowledge Base entails the query\n"
     ]
    }
   ],
   "source": [
    "rule, query = '(~Qv~PvR)^(~Q^P)^Q', 'R'\n",
    "checkEntailment(rule, query)"
   ]
  }
 ],
 "metadata": {
  "kernelspec": {
   "display_name": "Python 3",
   "language": "python",
   "name": "python3"
  },
  "language_info": {
   "codemirror_mode": {
    "name": "ipython",
    "version": 3
   },
   "file_extension": ".py",
   "mimetype": "text/x-python",
   "name": "python",
   "nbconvert_exporter": "python",
   "pygments_lexer": "ipython3",
   "version": "3.7.6"
  },
  "papermill": {
   "duration": 5.75795,
   "end_time": "2020-11-22T21:51:15.666929",
   "environment_variables": {},
   "exception": null,
   "input_path": "__notebook__.ipynb",
   "output_path": "__notebook__.ipynb",
   "parameters": {},
   "start_time": "2020-11-22T21:51:09.908979",
   "version": "2.1.0"
  }
 },
 "nbformat": 4,
 "nbformat_minor": 4
}
